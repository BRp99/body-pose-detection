{
 "cells": [
  {
   "cell_type": "markdown",
   "id": "c3b7f28e-e3f1-4976-9fd1-8237f6a0dccb",
   "metadata": {},
   "source": [
    "# Imports"
   ]
  },
  {
   "cell_type": "code",
   "execution_count": 1,
   "id": "8fda661e-2f92-4938-a411-d593c53caf2d",
   "metadata": {},
   "outputs": [],
   "source": [
    "import cv2"
   ]
  },
  {
   "cell_type": "markdown",
   "id": "2fafb9ef-3b73-4fcd-b4b3-3d5a157ccb28",
   "metadata": {},
   "source": [
    "# Code"
   ]
  },
  {
   "cell_type": "code",
   "execution_count": 3,
   "id": "4a400fd1-41f2-4668-9089-b67020a86f3e",
   "metadata": {},
   "outputs": [
    {
     "name": "stdout",
     "output_type": "stream",
     "text": [
      "Key 'q' pressed. End of looping\n"
     ]
    }
   ],
   "source": [
    "#create an capture video object \"video_capture\" using VideoCapture function. The argument is the path where the video is open.\n",
    "video_capture = cv2.VideoCapture(\"./videos/basket.mp4\")\n",
    "w = video_capture.get(3)\n",
    "h = video_capture.get(4)\n",
    "\n",
    "while True: \n",
    "    ret, img = video_capture.read()\n",
    "    # \"ret\" is a common convention in OpenCV documentation for returning a video read operation\n",
    "    # video_capture.read() reads the next video frame.\n",
    "    # the return \"ret\" is a boolean value -> indicates if the read was successful\n",
    "    # the \"img\" it's the capture frame.\n",
    "    # if the reading was successful \"ret\" is True and \"img\" contains the frame\n",
    "    if not ret:\n",
    "        #print(\"error reading frame\")\n",
    "        break\n",
    "\n",
    "    # resize the frame    \n",
    "    if not img.size == 0:\n",
    "        img = cv2.resize(img, (int(w/2), int(h/2)))\n",
    "\n",
    "        # display the frame\n",
    "        cv2.imshow(\"Basketball video\", img)\n",
    "        \n",
    "    key = cv2.waitKey(33)\n",
    "    # the loop will continue to run until a key is pressed, keeping the window responsive.\n",
    "    # the value 1 indicates the waiting time in milliseconds\n",
    "    if key == ord(\"q\"):\n",
    "        print(\"Key 'q' pressed. End of looping\")\n",
    "        break\n",
    "\n",
    "video_capture.release()\n",
    "cv2.destroyAllWindows()\n",
    "    "
   ]
  },
  {
   "cell_type": "code",
   "execution_count": null,
   "id": "93c5cdd6-f096-45c4-9318-152f6a70e854",
   "metadata": {},
   "outputs": [],
   "source": []
  }
 ],
 "metadata": {
  "kernelspec": {
   "display_name": "Python 3 (ipykernel)",
   "language": "python",
   "name": "python3"
  },
  "language_info": {
   "codemirror_mode": {
    "name": "ipython",
    "version": 3
   },
   "file_extension": ".py",
   "mimetype": "text/x-python",
   "name": "python",
   "nbconvert_exporter": "python",
   "pygments_lexer": "ipython3",
   "version": "3.11.0"
  }
 },
 "nbformat": 4,
 "nbformat_minor": 5
}
