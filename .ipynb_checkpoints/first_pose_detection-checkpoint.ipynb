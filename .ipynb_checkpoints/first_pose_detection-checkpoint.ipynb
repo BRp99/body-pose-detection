{
 "cells": [
  {
   "cell_type": "markdown",
   "id": "c3b7f28e-e3f1-4976-9fd1-8237f6a0dccb",
   "metadata": {},
   "source": [
    "# Imports"
   ]
  },
  {
   "cell_type": "code",
   "execution_count": 10,
   "id": "8fda661e-2f92-4938-a411-d593c53caf2d",
   "metadata": {},
   "outputs": [],
   "source": [
    "import cv2\n",
    "import mediapipe as mp\n",
    "import numpy as np"
   ]
  },
  {
   "cell_type": "markdown",
   "id": "2fafb9ef-3b73-4fcd-b4b3-3d5a157ccb28",
   "metadata": {},
   "source": [
    "# Code"
   ]
  },
  {
   "cell_type": "code",
   "execution_count": 11,
   "id": "4a400fd1-41f2-4668-9089-b67020a86f3e",
   "metadata": {},
   "outputs": [
    {
     "ename": "NameError",
     "evalue": "name 'result' is not defined",
     "output_type": "error",
     "traceback": [
      "\u001b[1;31m---------------------------------------------------------------------------\u001b[0m",
      "\u001b[1;31mNameError\u001b[0m                                 Traceback (most recent call last)",
      "Cell \u001b[1;32mIn[11], line 36\u001b[0m\n\u001b[0;32m     34\u001b[0m op_img \u001b[38;5;241m=\u001b[39m np\u001b[38;5;241m.\u001b[39mzeros([h, w, c])\n\u001b[0;32m     35\u001b[0m op_img\u001b[38;5;241m.\u001b[39mfill(\u001b[38;5;241m255\u001b[39m)\n\u001b[1;32m---> 36\u001b[0m mp_visualize_landmarks\u001b[38;5;241m.\u001b[39mdraw_landmarks(op_img, \u001b[43mresult\u001b[49m\u001b[38;5;241m.\u001b[39mpose_landmarks, mp_detect_pose\u001b[38;5;241m.\u001b[39mPOSE_CONNECTIONS)\n\u001b[0;32m     37\u001b[0m cv2\u001b[38;5;241m.\u001b[39mimshow(\u001b[38;5;124m\"\u001b[39m\u001b[38;5;124mExtracted Pose\u001b[39m\u001b[38;5;124m\"\u001b[39m, op_img)\n\u001b[0;32m     40\u001b[0m \u001b[38;5;66;03m# display the frame\u001b[39;00m\n",
      "\u001b[1;31mNameError\u001b[0m: name 'result' is not defined"
     ]
    }
   ],
   "source": [
    "mp_detect_pose = mp.solutions.pose\n",
    "mp_visualize_landmarks = mp.solutions.drawing_utils\n",
    "pose = mp_detect_pose.Pose()\n",
    "\n",
    "#create an capture video object \"video_capture\" using VideoCapture function. The argument is the path where the video is open.\n",
    "video_capture = cv2.VideoCapture(\"./videos/basket.mp4\")\n",
    "w = video_capture.get(3)\n",
    "h = video_capture.get(4)\n",
    "\n",
    "while True: \n",
    "    ret, img = video_capture.read()\n",
    "    # \"ret\" is a common convention in OpenCV documentation for returning a video read operation\n",
    "    # video_capture.read() reads the next video frame.\n",
    "    # the return \"ret\" is a boolean value -> indicates if the read was successful\n",
    "    # the \"img\" it's the capture frame.\n",
    "    # if the reading was successful \"ret\" is True and \"img\" contains the frame\n",
    "    if not ret:\n",
    "        #print(\"error reading frame\")\n",
    "        break\n",
    "\n",
    "    # resize the frame    \n",
    "    if not img.size == 0:\n",
    "        #img = cv2.resize(img, (int(w/2), int(h/2)))\n",
    "        img = cv2.resize(img, (600, 400))\n",
    "\n",
    "        results = pose.process(img)\n",
    "        mp_visualize_landmarks.draw_landmarks(img, results.pose_landmarks, mp_detect_pose.POSE_CONNECTIONS)\n",
    "        #print(results.pose_landmarks)\n",
    "        #results -> details about different landmarks and positioning\n",
    "\n",
    "        h, w, c = img.shape\n",
    "\n",
    "        \n",
    "        op_img = np.zeros([h, w, c])\n",
    "        op_img.fill(255)\n",
    "        mp_visualize_landmarks.draw_landmarks(op_img, results.pose_landmarks, mp_detect_pose.POSE_CONNECTIONS)\n",
    "        cv2.imshow(\"Extracted Pose\", op_img)\n",
    "        \n",
    "        \n",
    "        # display the frame\n",
    "        cv2.imshow(\"Basketball video\", img)\n",
    "        \n",
    "    key = cv2.waitKey(33)\n",
    "    # the loop will continue to run until a key is pressed, keeping the window responsive.\n",
    "    # the value 1 indicates the waiting time in milliseconds\n",
    "    if key == ord(\"q\"):\n",
    "        break\n",
    "\n",
    "video_capture.release()\n",
    "cv2.destroyAllWindows()\n",
    "    "
   ]
  },
  {
   "cell_type": "code",
   "execution_count": null,
   "id": "93c5cdd6-f096-45c4-9318-152f6a70e854",
   "metadata": {},
   "outputs": [],
   "source": []
  }
 ],
 "metadata": {
  "kernelspec": {
   "display_name": "Python 3 (ipykernel)",
   "language": "python",
   "name": "python3"
  },
  "language_info": {
   "codemirror_mode": {
    "name": "ipython",
    "version": 3
   },
   "file_extension": ".py",
   "mimetype": "text/x-python",
   "name": "python",
   "nbconvert_exporter": "python",
   "pygments_lexer": "ipython3",
   "version": "3.11.0"
  }
 },
 "nbformat": 4,
 "nbformat_minor": 5
}
