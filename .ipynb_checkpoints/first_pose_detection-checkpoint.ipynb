{
 "cells": [
  {
   "cell_type": "markdown",
   "id": "c3b7f28e-e3f1-4976-9fd1-8237f6a0dccb",
   "metadata": {},
   "source": [
    "# Imports"
   ]
  },
  {
   "cell_type": "code",
   "execution_count": 58,
   "id": "8fda661e-2f92-4938-a411-d593c53caf2d",
   "metadata": {},
   "outputs": [],
   "source": [
    "import cv2\n",
    "import mediapipe as mp\n",
    "import numpy as np"
   ]
  },
  {
   "cell_type": "markdown",
   "id": "2fafb9ef-3b73-4fcd-b4b3-3d5a157ccb28",
   "metadata": {},
   "source": [
    "# Code"
   ]
  },
  {
   "cell_type": "code",
   "execution_count": 61,
   "id": "4a400fd1-41f2-4668-9089-b67020a86f3e",
   "metadata": {},
   "outputs": [],
   "source": [
    "mp_detect_pose = mp.solutions.pose\n",
    "mp_visualize_landmarks = mp.solutions.drawing_utils\n",
    "pose = mp_detect_pose.Pose()\n",
    "\n",
    "#create an capture video object \"video_capture\" using VideoCapture function. The argument is the path where the video is open.\n",
    "video_capture = cv2.VideoCapture(\"./videos/basket.mp4\")\n",
    "w = video_capture.get(3)\n",
    "h = video_capture.get(4)\n",
    "\n",
    "\n",
    "# VideoWriter\n",
    "fourcc = cv2.VideoWriter_fourcc(*'mp4v')  \n",
    "out = cv2.VideoWriter(r'C:./video_bask2.mp4', fourcc, 29.97, (600, 400))\n",
    "\n",
    "\n",
    "while True: \n",
    "    ret, img = video_capture.read()\n",
    "    # \"ret\" is a common convention in OpenCV documentation for returning a video read operation\n",
    "    # video_capture.read() reads the next video frame.\n",
    "    # the return \"ret\" is a boolean value -> indicates if the read was successful\n",
    "    # the \"img\" it's the capture frame.\n",
    "    # if the reading was successful \"ret\" is True and \"img\" contains the frame\n",
    "    if not ret:\n",
    "        #print(\"error reading frame\")\n",
    "        break\n",
    "\n",
    "    # resize the frame    \n",
    "    if not img.size == 0:\n",
    "        img = cv2.resize(img, (600, 400))\n",
    "\n",
    "# ORIGINAL VIDEO\n",
    "        \n",
    "        results = pose.process(img)\n",
    "        mp_visualize_landmarks.draw_landmarks(img, results.pose_landmarks, mp_detect_pose.POSE_CONNECTIONS, mp_visualize_landmarks.DrawingSpec((0, 0, 0), 2, 2), mp_visualize_landmarks.DrawingSpec((10, 228, 72), 2, 2))\n",
    "        cv2.imshow(\"Basketball video\", img)\n",
    "\n",
    "        out.write(img)\n",
    "        \n",
    "        #print(results.pose_landmarks)\n",
    "        #results -> details about different landmarks and positioning\n",
    "\n",
    "# EXTRACT POSE DETECTION FROM ORIGINAL VIDEO\n",
    "        h, w, c = img.shape\n",
    "\n",
    "        op_img = np.zeros([h, w, c])\n",
    "        op_img.fill(0)\n",
    "        mp_visualize_landmarks.draw_landmarks(op_img, results.pose_landmarks, mp_detect_pose.POSE_CONNECTIONS)\n",
    "        cv2.imshow(\"Extracted pose from basketball video\", op_img)\n",
    "        \n",
    "        \n",
    "        # display the frame\n",
    "        #cv2.imshow(\"Basketball video\", img)\n",
    "        \n",
    "    key = cv2.waitKey(33)\n",
    "    # the loop will continue to run until a key is pressed, keeping the window responsive.\n",
    "    # the value 1 indicates the waiting time in milliseconds\n",
    "    if key == ord(\"w\"):\n",
    "        break\n",
    "\n",
    "video_capture.release()\n",
    "out.release()\n",
    "cv2.destroyAllWindows()\n",
    "    "
   ]
  },
  {
   "cell_type": "code",
   "execution_count": null,
   "id": "93c5cdd6-f096-45c4-9318-152f6a70e854",
   "metadata": {},
   "outputs": [],
   "source": []
  }
 ],
 "metadata": {
  "kernelspec": {
   "display_name": "Python 3 (ipykernel)",
   "language": "python",
   "name": "python3"
  },
  "language_info": {
   "codemirror_mode": {
    "name": "ipython",
    "version": 3
   },
   "file_extension": ".py",
   "mimetype": "text/x-python",
   "name": "python",
   "nbconvert_exporter": "python",
   "pygments_lexer": "ipython3",
   "version": "3.11.0"
  }
 },
 "nbformat": 4,
 "nbformat_minor": 5
}
